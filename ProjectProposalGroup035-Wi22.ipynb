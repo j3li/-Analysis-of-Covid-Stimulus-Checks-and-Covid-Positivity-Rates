{
 "cells": [
  {
   "cell_type": "markdown",
   "metadata": {},
   "source": [
    "# COGS 108 - Final Project Proposal"
   ]
  },
  {
   "cell_type": "markdown",
   "metadata": {},
   "source": [
    "# Names\n",
    "\n",
    "- David Em-Yinn\n",
    "- Jing Li\n",
    "- Anna Hsieh\n",
    "- Alejandro Garcia Martinez\n",
    "- Christian Gonzalez\n"
   ]
  },
  {
   "cell_type": "markdown",
   "metadata": {},
   "source": [
    "# Research Question"
   ]
  },
  {
   "cell_type": "markdown",
   "metadata": {},
   "source": [
    "*Is there a relationship between stimulus checks/grants/unemployment bonuses and covid infection rates across the counties of California between March 2020 to September 2020?*"
   ]
  },
  {
   "cell_type": "markdown",
   "metadata": {},
   "source": [
    "## Background and Prior Work"
   ]
  },
  {
   "cell_type": "markdown",
   "metadata": {},
   "source": [
    "### INTRO:\n",
    "*The Covid-19 pandemic has had a significant negative impact on the economy, with many people losing their jobs. Similar to previous recessions, the US government provided stimulus checks in hopes of boosting the economy and also assisting people with buying protective equipment, such as masks and disinfectants. In our study, we are trying to determine whether the stimulus checks have had a positive effect (negative correlation) on covid infection rates.* \n",
    "\n",
    "### PRIOR WORK:\n",
    "*There are few studies on the effects of the government grants that relate to covid infection rates; however, there is an article about an increase in isolation and compliance due to government grants. In 2020, a survey was conducted where they asked Americans if they would comply with an extension of stay-at-home orders. They found that about half of Americans would comply and a third wouldn’t. Moreover, they discovered that economically secure people are more likely to stay at home in isolation, while those who aren’t secure would be less likely to stay home because they had to go to work. Since the government passed 3 COVID-19 stimulus checks, along with unemployment benefits from the CARE Act, people felt more financially secure, thus more likely to stay in isolation.*\n",
    "\n",
    "References (include links):\n",
    "- 1) https://www.usa.gov/covid-stimulus-checks\n",
    "- 2) https://www.nature.com/articles/s41598-020-75640-2\n",
    "- 3) https://www.washingtonpost.com/politics/2020/11/19/stimulus-funds-really-do-keep-people-home-our-research-finds/"
   ]
  },
  {
   "cell_type": "markdown",
   "metadata": {},
   "source": [
    "# Hypothesis\n"
   ]
  },
  {
   "cell_type": "markdown",
   "metadata": {},
   "source": [
    "*Upon our research, we hypothesized that there is a negative correlation between the stimulus checks/covid grants and covid infections rates across the counties of California. We believe this is the case because people will be able to support some of their bare necessities while staying isolated which will keep others safe and prevent exposure.*"
   ]
  },
  {
   "cell_type": "markdown",
   "metadata": {},
   "source": [
    "# Data"
   ]
  },
  {
   "cell_type": "markdown",
   "metadata": {},
   "source": [
    "- *Ideal datasets would be daily/monthly covid case counts/rates by county/state and number or proportion of people who received each of the three stimulus checks by county/state.*\n",
    "- *The variables in our data set would include:*\n",
    "    - *Covid rates per county:*\n",
    "        - https://usafacts.org/visualizations/coronavirus-covid-19-spread-map (county populations and daily cases by county)\n",
    "    - *Amount of stimulus money:*\n",
    "    - *Amount of unemployment benefits per county:*\n",
    "    - *Minimum wage per county:*\n",
    "        - https://minimumwage.com/state/california/ (Wages of counties)\n",
    "    - *Cost of living per county:*\n",
    "        - In search of a data set, but this seems promising https://www.bls.gov/cpi/data.htm  \n",
    "    - Food prices per county\n",
    "        - In search of a data set"
   ]
  },
  {
   "cell_type": "markdown",
   "metadata": {},
   "source": [
    "# Ethics & Privacy"
   ]
  },
  {
   "cell_type": "markdown",
   "metadata": {},
   "source": [
    "1. *Are there any biases/privacy/terms of use issues with the data you proposed?*\n",
    "    - There is a subset of the population who will not show up to the hospital or take a covid test so there is a set of people whose covid data isn’t available.\n",
    "    \n",
    "2. *Are there potential biases in your dataset(s), in terms of who it composes, and how it was collected, that may be problematic in terms of it allowing for equitable analysis? (For example, does your data exclude particular populations, or is it likely to reflect particular human biases in a way that could be a problem?)*\n",
    "    - Our sample size leaves room for a lot of confounds including class, cultural, and geographical differences. While covid infections are unbiased, healthcare access, necessity for work and government/science (People) (Science/Government Distrust creates anti-science culture: Polio vaccine, fake studies on the biological difference of black people) are all variables that are difficult to account for. Because of this, we will most likely fail to come up with solutions on how to reduce covid rates in these communities despite not being deserving of higher covid rates.\n",
    "    \n",
    "3. *How will you set out to detect these specific biases before, during, and after/when communicating your analysis?*\n",
    "    - Reducing area to reduce cultural/political differences such that we can accurately assess the left over variables (We assume the leftovers will mainly be geographical variables). \n",
    "    \n",
    "4. *Are there any other issues related to your topic area, data, and/or analyses that are potentially problematic in terms of data privacy and equitable impact?*\n",
    "    - Participants might not agree with how the original data was collected (Via government resources). They might extend their distrust with the government/historical science onto us making it harder to apply our results (Assuming they’re meaningful).\n",
    "    \n",
    "5. *How will you handle issues you identified?*\n",
    "    - Still unsure.\n"
   ]
  },
  {
   "cell_type": "markdown",
   "metadata": {},
   "source": [
    "# Team Expectations "
   ]
  },
  {
   "cell_type": "markdown",
   "metadata": {},
   "source": [
    "1. Clear communication amongst team: any issues or concerns should be voiced and we are expected to work together to mediate the situation.\n",
    "2. Equal work split amongst the team.\n",
    "3. Attendance at the meetings is mandatory unless specified otherwise. \n",
    "4. The team is expected to check discord daily (or stay up to date via text messaging).\n",
    "5. Each member should complete the work assigned to them by the due date/meeting. \n",
    "    - If a member is unable to complete it, they should clearly communicate that with the team so that we can resolve it.\n",
    "6. If problems arise, we are free to come together to add another expectation."
   ]
  },
  {
   "cell_type": "markdown",
   "metadata": {},
   "source": [
    "# Project Timeline Proposal"
   ]
  },
  {
   "cell_type": "markdown",
   "metadata": {},
   "source": [
    "| Meeting Date  | Meeting Time| Completed Before Meeting  | Discuss at Meeting |\n",
    "|---|---|---|---|\n",
    "| 1/27  |  1:45 PM | Half of the project proposal   | Revisions to research questions, defining our variables, finding our data sets, and finalizing our project plan/expectations.| \n",
    "| 1/28  |  TBA |  Complete basic | Edit, finalize, and submit proposal; Search for datasets | \n",
    "| 2/1  | TBA  | Edit, finalize, and submit proposal; Search for datasets  | Discuss Wrangling and possible analytical approaches; Assign group members to lead each specific part   |\n",
    "| 2/8,2/15  | TBA  | Import & Wrangle Data; EDA | Review/Edit wrangling/EDA; Discuss Analysis Plan   |\n",
    "| 2/22,3/1  | TBA | Finalize wrangling/EDA; Begin Analysis  | Discuss/edit Analysis; Complete project check-in |\n",
    "| 3/8,3/15  | TBA  | Complete analysis; Draft results/conclusion/discussion | Discuss/edit full project |\n",
    "| 3/19  | Before 11:59 PM  | NA | Turn in Final Project & Group Project Surveys |"
   ]
  }
 ],
 "metadata": {
  "kernelspec": {
   "display_name": "Python 3",
   "language": "python",
   "name": "python3"
  },
  "language_info": {
   "codemirror_mode": {
    "name": "ipython",
    "version": 3
   },
   "file_extension": ".py",
   "mimetype": "text/x-python",
   "name": "python",
   "nbconvert_exporter": "python",
   "pygments_lexer": "ipython3",
   "version": "3.8.8"
  }
 },
 "nbformat": 4,
 "nbformat_minor": 2
}

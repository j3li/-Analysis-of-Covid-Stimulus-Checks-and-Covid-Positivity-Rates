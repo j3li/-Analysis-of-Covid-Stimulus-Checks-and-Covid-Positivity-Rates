{
 "cells": [
  {
   "cell_type": "markdown",
   "metadata": {},
   "source": [
    "# COGS 108 - Data Checkpoint"
   ]
  },
  {
   "cell_type": "markdown",
   "metadata": {},
   "source": [
    "# Names\n",
    "\n",
    "- David Em-Yinn\n",
    "- Jing Li\n",
    "- Anna Hsieh\n",
    "- Alejandro Garcia Martinez\n",
    "- Christian Gonzalez"
   ]
  },
  {
   "cell_type": "markdown",
   "metadata": {},
   "source": [
    "<a id='research_question'></a>\n",
    "# Research Question"
   ]
  },
  {
   "cell_type": "markdown",
   "metadata": {},
   "source": [
    "*Is there a relationship between stimulus checks and covid infection rates across the counties of California between March 2020 to February 2021?*"
   ]
  },
  {
   "cell_type": "markdown",
   "metadata": {},
   "source": [
    "# Dataset(s)"
   ]
  },
  {
   "cell_type": "markdown",
   "metadata": {},
   "source": [
    "- Dataset Name: Statewide COVID-19 Cases Deaths Tests\n",
    "- Link to the dataset: https://data.chhs.ca.gov/dataset/covid-19-time-series-metrics-by-county-and-state/resource/046cdd2b-31e5-4d34-9ed3-b48cdbc4be7a\n",
    "- Number of observations: 45201\n",
    "\n",
    "This dataset includes the number of daily COVID-19 cases, deaths, and tests for each county in California from 2/1/2020 to now as well as the population size of each county."
   ]
  },
  {
   "cell_type": "markdown",
   "metadata": {},
   "source": [
    "# Setup"
   ]
  },
  {
   "cell_type": "code",
   "execution_count": 2,
   "metadata": {},
   "outputs": [],
   "source": [
    "## YOUR CODE HERE\n",
    "import pandas as pd\n",
    "import numpy as np\n",
    "import seaborn as sns\n",
    "import matplotlib.pyplot as plt"
   ]
  },
  {
   "cell_type": "markdown",
   "metadata": {},
   "source": [
    "# Data Cleaning"
   ]
  },
  {
   "cell_type": "markdown",
   "metadata": {},
   "source": [
    "I first checked the unique values in the area column to find that it also included California, out of state, and unknown, so I removed those columns. Then I added a new column for the positivity rate by calculating it from the number of positive tests and the number of total tests. We only need the daily rates by county, so I selected the columns 'date', 'area', and 'rate' and renamed 'area' to 'county'. Lastly, I filtered the data to only include data from March 2020 to February 2021. "
   ]
  },
  {
   "cell_type": "code",
   "execution_count": 14,
   "metadata": {},
   "outputs": [],
   "source": [
    "## YOUR CODE HERE\n",
    "## FEEL FREE TO ADD MULTIPLE CELLS PER SECTION\n",
    "covid_df = pd.read_csv('https://data.chhs.ca.gov/dataset/f333528b-4d38-4814-bebb-12db1f10f535/resource/046cdd2b-31e5-4d34-9ed3-b48cdbc4be7a/download/covid19cases_test.csv')\n",
    "covid_df = covid_df[~covid_df.area.isin(['California', 'Out of state', 'Unknown'])]\n",
    "covid_df = covid_df.assign(rate = covid_df['positive_tests'] / covid_df['total_tests'] * 100)\n",
    "covid_df = covid_df[['date', 'area', 'rate']]\n",
    "covid_df = covid_df.rename({'area':'county'}, axis='columns')\n",
    "covid_df = covid_df.loc[(covid_df['date'] >= '2020-03-01') & (covid_df['date'] <= '2021-02-28')]"
   ]
  }
 ],
 "metadata": {
  "kernelspec": {
   "display_name": "Python 3",
   "language": "python",
   "name": "python3"
  },
  "language_info": {
   "codemirror_mode": {
    "name": "ipython",
    "version": 3
   },
   "file_extension": ".py",
   "mimetype": "text/x-python",
   "name": "python",
   "nbconvert_exporter": "python",
   "pygments_lexer": "ipython3",
   "version": "3.8.8"
  }
 },
 "nbformat": 4,
 "nbformat_minor": 2
}
